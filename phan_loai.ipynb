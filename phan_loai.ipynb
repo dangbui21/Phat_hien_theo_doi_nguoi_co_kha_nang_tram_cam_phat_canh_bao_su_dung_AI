{
 "cells": [
  {
   "cell_type": "code",
   "execution_count": 1,
   "metadata": {},
   "outputs": [],
   "source": [
    "from wordcloud import WordCloud\n",
    "import numpy as np\n",
    "import pandas as pd\n",
    "from sklearn.model_selection import train_test_split\n",
    "import neattext.functions as nfx\n",
    "import matplotlib.pyplot as plt\n",
    "import plotly.express as plx\n",
    "from tqdm import tqdm\n"
   ]
  },
  {
   "cell_type": "code",
   "execution_count": 2,
   "metadata": {},
   "outputs": [
    {
     "data": {
      "text/html": [
       "<div>\n",
       "<style scoped>\n",
       "    .dataframe tbody tr th:only-of-type {\n",
       "        vertical-align: middle;\n",
       "    }\n",
       "\n",
       "    .dataframe tbody tr th {\n",
       "        vertical-align: top;\n",
       "    }\n",
       "\n",
       "    .dataframe thead th {\n",
       "        text-align: right;\n",
       "    }\n",
       "</style>\n",
       "<table border=\"1\" class=\"dataframe\">\n",
       "  <thead>\n",
       "    <tr style=\"text-align: right;\">\n",
       "      <th></th>\n",
       "      <th>Unnamed: 0</th>\n",
       "      <th>text</th>\n",
       "      <th>class</th>\n",
       "    </tr>\n",
       "  </thead>\n",
       "  <tbody>\n",
       "    <tr>\n",
       "      <th>0</th>\n",
       "      <td>2</td>\n",
       "      <td>Ex Wife Threatening SuicideRecently I left my ...</td>\n",
       "      <td>suicide</td>\n",
       "    </tr>\n",
       "    <tr>\n",
       "      <th>1</th>\n",
       "      <td>3</td>\n",
       "      <td>Am I weird I don't get affected by compliments...</td>\n",
       "      <td>non-suicide</td>\n",
       "    </tr>\n",
       "    <tr>\n",
       "      <th>2</th>\n",
       "      <td>4</td>\n",
       "      <td>Finally 2020 is almost over... So I can never ...</td>\n",
       "      <td>non-suicide</td>\n",
       "    </tr>\n",
       "    <tr>\n",
       "      <th>3</th>\n",
       "      <td>8</td>\n",
       "      <td>i need helpjust help me im crying so hard</td>\n",
       "      <td>suicide</td>\n",
       "    </tr>\n",
       "    <tr>\n",
       "      <th>4</th>\n",
       "      <td>9</td>\n",
       "      <td>I’m so lostHello, my name is Adam (16) and I’v...</td>\n",
       "      <td>suicide</td>\n",
       "    </tr>\n",
       "  </tbody>\n",
       "</table>\n",
       "</div>"
      ],
      "text/plain": [
       "   Unnamed: 0                                               text        class\n",
       "0           2  Ex Wife Threatening SuicideRecently I left my ...      suicide\n",
       "1           3  Am I weird I don't get affected by compliments...  non-suicide\n",
       "2           4  Finally 2020 is almost over... So I can never ...  non-suicide\n",
       "3           8          i need helpjust help me im crying so hard      suicide\n",
       "4           9  I’m so lostHello, my name is Adam (16) and I’v...      suicide"
      ]
     },
     "execution_count": 2,
     "metadata": {},
     "output_type": "execute_result"
    }
   ],
   "source": [
    "data=pd.read_csv('data/Suicide_Detection.csv')\n",
    "data.head()"
   ]
  },
  {
   "cell_type": "code",
   "execution_count": 3,
   "metadata": {},
   "outputs": [],
   "source": [
    "train_data,test_data=train_test_split(data,test_size=0.2,random_state=10)"
   ]
  },
  {
   "cell_type": "code",
   "execution_count": 4,
   "metadata": {},
   "outputs": [],
   "source": [
    "def clean_text(text):\n",
    "    text_length=[]\n",
    "    cleaned_text=[]\n",
    "    for sent in tqdm(text):\n",
    "        sent=sent.lower() #Biến toàn bộ đoạn văn bản thành chữ thường\n",
    "        sent=nfx.remove_special_characters(sent)#Gỡ bỏ các ký tự đặc biệt như dấu câu, ký tự không phải chữ cái hay số\n",
    "        sent=nfx.remove_stopwords(sent)#Gỡ bỏ các từ không mang nghĩa như \"and\", \"is\",... Điều này giúp tập trung vào những từ quan trọng hơn trong văn bản\n",
    "        # sent=nfx.remove_shortwords(sent)\n",
    "        text_length.append(len(sent.split()))#Đo chiều dài của đoạn văn bản sau khi xử lý\n",
    "        cleaned_text.append(sent)\n",
    "    return cleaned_text,text_length"
   ]
  },
  {
   "cell_type": "code",
   "execution_count": 5,
   "metadata": {},
   "outputs": [
    {
     "name": "stderr",
     "output_type": "stream",
     "text": [
      "  0%|          | 0/185659 [00:00<?, ?it/s]"
     ]
    },
    {
     "name": "stderr",
     "output_type": "stream",
     "text": [
      "100%|██████████| 185659/185659 [00:09<00:00, 20335.21it/s]\n",
      "100%|██████████| 46415/46415 [00:02<00:00, 20308.75it/s]\n"
     ]
    }
   ],
   "source": [
    "cleaned_train_text,train_text_length=clean_text(train_data.text)\n",
    "cleaned_test_text,test_text_length=clean_text(test_data.text)"
   ]
  },
  {
   "cell_type": "code",
   "execution_count": 6,
   "metadata": {},
   "outputs": [],
   "source": [
    "import numpy as np\n",
    "from keras.preprocessing.text import Tokenizer\n",
    "\n",
    "from keras.models import load_model\n",
    "\n",
    "# Đường dẫn tới tệp mô hình đã lưu\n",
    "model_filename = \"model/Suicidal_0.h5\"\n",
    "\n",
    "# Tải mô hình\n",
    "model = load_model(model_filename)\n",
    "\n",
    "# Tạo tokenizer sử dụng cho việc chuyển đổi văn bản thành dãy số\n",
    "tokenizer = Tokenizer()\n",
    "tokenizer.fit_on_texts(cleaned_train_text)\n"
   ]
  },
  {
   "cell_type": "code",
   "execution_count": 11,
   "metadata": {},
   "outputs": [
    {
     "name": "stdout",
     "output_type": "stream",
     "text": [
      "1/1 [==============================] - 1s 906ms/step\n",
      "Đoạn văn bản có khả năng trầm cảm.\n"
     ]
    }
   ],
   "source": [
    "# Hãy thử với việc nhập vài đoạn từ bàn phím\n",
    "\n",
    "from keras.utils import pad_sequences\n",
    "# Nhập đoạn văn bản từ bàn phím\n",
    "input_text = input(\"Nhập đoạn văn bản: \")\n",
    "\n",
    "\n",
    "# Chuyển đoạn văn bản thành dãy số sử dụng tokenizer\n",
    "\n",
    "input_seq = tokenizer.texts_to_sequences([input_text])\n",
    "\n",
    "# Padding đoạn văn bản để có cùng độ dài với dữ liệu huấn luyện\n",
    "max_sequence_length = 40\n",
    "input_seq_padded = pad_sequences(input_seq, maxlen=max_sequence_length, padding='post')\n",
    "\n",
    "# Dự đoán sử dụng mô hình\n",
    "prediction = model.predict(input_seq_padded)\n",
    "\n",
    "# Ngưỡng để quyết định kết quả tùy chỉnh sao cho hợp lý\n",
    "threshold = 0.7\n",
    "\n",
    "if prediction > threshold:\n",
    "    print(\"Đoạn văn bản có khả năng trầm cảm.\")\n",
    "else:\n",
    "    print(\"Đoạn văn bản không có khả năng trầm cảm.\")"
   ]
  },
  {
   "cell_type": "code",
   "execution_count": 9,
   "metadata": {},
   "outputs": [
    {
     "name": "stderr",
     "output_type": "stream",
     "text": [
      "100%|██████████| 66/66 [00:00<?, ?it/s]"
     ]
    },
    {
     "name": "stdout",
     "output_type": "stream",
     "text": [
      "3/3 [==============================] - 0s 6ms/step\n",
      "Đoạn văn bản 1: Không có khả năng trầm cảm.\n",
      "Đoạn văn bản 2: Không có khả năng trầm cảm.\n",
      "Đoạn văn bản 3: Không có khả năng trầm cảm.\n",
      "Đoạn văn bản 4: Không có khả năng trầm cảm.\n",
      "Đoạn văn bản 5: Không có khả năng trầm cảm.\n",
      "Đoạn văn bản 6: Không có khả năng trầm cảm.\n",
      "Đoạn văn bản 7: Không có khả năng trầm cảm.\n",
      "Đoạn văn bản 8: Không có khả năng trầm cảm.\n",
      "Đoạn văn bản 9: Không có khả năng trầm cảm.\n",
      "Đoạn văn bản 10: Không có khả năng trầm cảm.\n",
      "Đoạn văn bản 11: Không có khả năng trầm cảm.\n",
      "Đoạn văn bản 12: Không có khả năng trầm cảm.\n",
      "Đoạn văn bản 13: Không có khả năng trầm cảm.\n",
      "Đoạn văn bản 14: Không có khả năng trầm cảm.\n",
      "Đoạn văn bản 15: Không có khả năng trầm cảm.\n",
      "Đoạn văn bản 16: Không có khả năng trầm cảm.\n",
      "Đoạn văn bản 17: Không có khả năng trầm cảm.\n",
      "Đoạn văn bản 18: Không có khả năng trầm cảm.\n",
      "Đoạn văn bản 19: Không có khả năng trầm cảm.\n",
      "Đoạn văn bản 20: Không có khả năng trầm cảm.\n",
      "Đoạn văn bản 21: Không có khả năng trầm cảm.\n",
      "Đoạn văn bản 22: Không có khả năng trầm cảm.\n",
      "Đoạn văn bản 23: Không có khả năng trầm cảm.\n",
      "Đoạn văn bản 24: Không có khả năng trầm cảm.\n",
      "Đoạn văn bản 25: Không có khả năng trầm cảm.\n",
      "Đoạn văn bản 26: Không có khả năng trầm cảm.\n",
      "Đoạn văn bản 27: Không có khả năng trầm cảm.\n",
      "Đoạn văn bản 28: Không có khả năng trầm cảm.\n",
      "Đoạn văn bản 29: Không có khả năng trầm cảm.\n",
      "Đoạn văn bản 30: Không có khả năng trầm cảm.\n",
      "Đoạn văn bản 31: Không có khả năng trầm cảm.\n",
      "Đoạn văn bản 32: Không có khả năng trầm cảm.\n",
      "Đoạn văn bản 33: Không có khả năng trầm cảm.\n",
      "Đoạn văn bản 34: Không có khả năng trầm cảm.\n",
      "Đoạn văn bản 35: Không có khả năng trầm cảm.\n",
      "Đoạn văn bản 36: Không có khả năng trầm cảm.\n",
      "Đoạn văn bản 37: Không có khả năng trầm cảm.\n",
      "Đoạn văn bản 38: Không có khả năng trầm cảm.\n",
      "Đoạn văn bản 39: Không có khả năng trầm cảm.\n",
      "Đoạn văn bản 40: Không có khả năng trầm cảm.\n",
      "Đoạn văn bản 41: Không có khả năng trầm cảm.\n",
      "Đoạn văn bản 42: Không có khả năng trầm cảm.\n",
      "Đoạn văn bản 43: Không có khả năng trầm cảm.\n",
      "Đoạn văn bản 44: Không có khả năng trầm cảm.\n",
      "Đoạn văn bản 45: Không có khả năng trầm cảm.\n",
      "Đoạn văn bản 46: Không có khả năng trầm cảm.\n",
      "Đoạn văn bản 47: Không có khả năng trầm cảm.\n",
      "Đoạn văn bản 48: Không có khả năng trầm cảm.\n",
      "Đoạn văn bản 49: Không có khả năng trầm cảm.\n",
      "Đoạn văn bản 50: Không có khả năng trầm cảm.\n",
      "Đoạn văn bản 51: Không có khả năng trầm cảm.\n",
      "Đoạn văn bản 52: Không có khả năng trầm cảm.\n",
      "Đoạn văn bản 53: Không có khả năng trầm cảm.\n",
      "Đoạn văn bản 54: Không có khả năng trầm cảm.\n",
      "Đoạn văn bản 55: Không có khả năng trầm cảm.\n",
      "Đoạn văn bản 56: Không có khả năng trầm cảm.\n",
      "Đoạn văn bản 57: Không có khả năng trầm cảm.\n",
      "Đoạn văn bản 58: Không có khả năng trầm cảm.\n",
      "Đoạn văn bản 59: Không có khả năng trầm cảm.\n",
      "Đoạn văn bản 60: Không có khả năng trầm cảm.\n",
      "Đoạn văn bản 61: Không có khả năng trầm cảm.\n",
      "Đoạn văn bản 62: Không có khả năng trầm cảm.\n",
      "Đoạn văn bản 63: Không có khả năng trầm cảm.\n",
      "Đoạn văn bản 64: Có khả năng trầm cảm.\n",
      "Đoạn văn bản 65: Không có khả năng trầm cảm.\n",
      "Đoạn văn bản 66: Không có khả năng trầm cảm.\n"
     ]
    },
    {
     "name": "stderr",
     "output_type": "stream",
     "text": [
      "\n"
     ]
    }
   ],
   "source": [
    "# Test đã ok bây giờ đi phân loại thôi\n",
    "\n",
    "from keras.utils import pad_sequences\n",
    "\n",
    "# Đọc dữ liệu từ tệp CSV\n",
    "csv_file = \"data/data_da_chuyen_doi.csv\"\n",
    "data = pd.read_csv(csv_file)\n",
    "\n",
    "# Lấy cột \"Content\"\n",
    "content_data = data[\"Content\"]\n",
    "\n",
    "# Sử dụng hàm translate_to_english để xử lý dữ liệu\n",
    "cleaned_content, _ = clean_text(content_data)\n",
    "\n",
    "# Chuyển đổi dữ liệu văn bản thành dãy số sử dụng tokenizer\n",
    "input_seq = tokenizer.texts_to_sequences(cleaned_content)\n",
    "\n",
    "# Padding đoạn văn bản để có cùng độ dài với dữ liệu huấn luyện\n",
    "max_sequence_length = 40\n",
    "input_seq_padded = pad_sequences(input_seq, maxlen=max_sequence_length, padding='post')\n",
    "\n",
    "# Dự đoán sử dụng mô hình\n",
    "predictions = model.predict(input_seq_padded)\n",
    "\n",
    "# Ngưỡng để quyết định kết quả\n",
    "threshold = 0.6\n",
    "\n",
    "# In kết quả phân loại cho từng đoạn văn bản\n",
    "for i, prediction in enumerate(predictions):\n",
    "    if prediction > threshold:\n",
    "        print(f\"Đoạn văn bản {i + 1}: Có khả năng trầm cảm.\")\n",
    "    else:\n",
    "        print(f\"Đoạn văn bản {i + 1}: Không có khả năng trầm cảm.\")"
   ]
  },
  {
   "cell_type": "code",
   "execution_count": 10,
   "metadata": {},
   "outputs": [
    {
     "name": "stderr",
     "output_type": "stream",
     "text": [
      "100%|██████████| 66/66 [00:00<?, ?it/s]"
     ]
    },
    {
     "name": "stdout",
     "output_type": "stream",
     "text": [
      "3/3 [==============================] - 0s 3ms/step\n",
      "Đã gán nhãn và lưu dữ liệu vào tệp data_da_chuyen_doi_labeled.csv\n"
     ]
    },
    {
     "name": "stderr",
     "output_type": "stream",
     "text": [
      "\n"
     ]
    }
   ],
   "source": [
    "# Để thuận tiện sau này thì lưu lại kết quả phân loại \n",
    "\n",
    "import pandas as pd\n",
    "from keras.utils import pad_sequences\n",
    "# Đọc dữ liệu từ tệp CSV\n",
    "csv_file = \"data/data_da_chuyen_doi.csv\"\n",
    "data = pd.read_csv(csv_file)\n",
    "\n",
    "# Lấy cột \"Content\"\n",
    "content_data = data[\"Content\"]\n",
    "\n",
    "# Sử dụng hàm translate_to_english để xử lý dữ liệu\n",
    "cleaned_content, _ = clean_text(content_data)\n",
    "\n",
    "# Chuyển đổi dữ liệu văn bản thành dãy số sử dụng tokenizer\n",
    "input_seq = tokenizer.texts_to_sequences(cleaned_content)\n",
    "\n",
    "# Padding đoạn văn bản để có cùng độ dài với dữ liệu huấn luyện\n",
    "max_sequence_length = 40\n",
    "input_seq_padded = pad_sequences(input_seq, maxlen=max_sequence_length, padding='post')\n",
    "\n",
    "# Dự đoán sử dụng mô hình\n",
    "predictions = model.predict(input_seq_padded)\n",
    "\n",
    "# Ngưỡng để quyết định kết quả\n",
    "threshold = 0.6\n",
    "\n",
    "# Tạo cột mới \"Suicide\" với giá trị mặc định là 0\n",
    "data[\"Suicide\"] = 0\n",
    "\n",
    "# Gán nhãn 1 cho các đoạn văn bản có khả năng trầm cảm\n",
    "data.loc[:, \"Suicide\"] = np.where(predictions > threshold, 1, 0)\n",
    "\n",
    "# Lưu dữ liệu đã cập nhật vào tệp CSV mới\n",
    "output_csv_file = \"data/data_da_chuyen_doi.csv\"\n",
    "data.to_csv(output_csv_file, index=False)\n",
    "\n",
    "print(\"Đã gán nhãn và lưu dữ liệu vào tệp data_da_chuyen_doi_labeled.csv\")\n"
   ]
  }
 ],
 "metadata": {
  "kernelspec": {
   "display_name": "Python 3",
   "language": "python",
   "name": "python3"
  },
  "language_info": {
   "codemirror_mode": {
    "name": "ipython",
    "version": 3
   },
   "file_extension": ".py",
   "mimetype": "text/x-python",
   "name": "python",
   "nbconvert_exporter": "python",
   "pygments_lexer": "ipython3",
   "version": "3.11.5"
  },
  "orig_nbformat": 4
 },
 "nbformat": 4,
 "nbformat_minor": 2
}
