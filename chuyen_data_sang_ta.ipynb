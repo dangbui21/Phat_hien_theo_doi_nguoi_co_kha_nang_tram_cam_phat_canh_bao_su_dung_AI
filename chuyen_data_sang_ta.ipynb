{
 "cells": [
  {
   "cell_type": "code",
   "execution_count": 1,
   "metadata": {},
   "outputs": [
    {
     "name": "stdout",
     "output_type": "stream",
     "text": [
      "Chuyển đổi thành công!\n"
     ]
    }
   ],
   "source": [
    "# Do model đang hạn chế chỉ hiểu tiếng Anh vậy nên ta sẽ chuyển tiếng Anh qua tiếng Việt để model có thể hiểu được\n",
    "\n",
    "import csv\n",
    "from googletrans import Translator\n",
    "\n",
    "# Khởi tạo đối tượng Translator\n",
    "translator = Translator()\n",
    "\n",
    "def translate_to_english(text):\n",
    "    try:\n",
    "        # Sử dụng Google Translate để chuyển đổi văn bản\n",
    "        translation = translator.translate(text, src='vi', dest='en')\n",
    "        return translation.text\n",
    "    except Exception as e:\n",
    "        return str(e)\n",
    "\n",
    "input_csv_file = 'data/output_data.csv'\n",
    "output_csv_file = 'data/data_da_chuyen_doi.csv'\n",
    "\n",
    "with open(input_csv_file, mode='r', encoding='utf-8') as infile, \\\n",
    "     open(output_csv_file, mode='w', encoding='utf-8', newline='') as outfile:\n",
    "\n",
    "    reader = csv.DictReader(infile)\n",
    "    fieldnames = reader.fieldnames\n",
    "\n",
    "    writer = csv.DictWriter(outfile, fieldnames=fieldnames)\n",
    "    writer.writeheader()\n",
    "\n",
    "    for row in reader:\n",
    "        row['Content'] = translate_to_english(row['Content'])\n",
    "        writer.writerow(row)\n",
    "\n",
    "print(\"Chuyển đổi thành công!\")\n"
   ]
  },
  {
   "cell_type": "code",
   "execution_count": null,
   "metadata": {},
   "outputs": [],
   "source": []
  }
 ],
 "metadata": {
  "kernelspec": {
   "display_name": "Python 3",
   "language": "python",
   "name": "python3"
  },
  "language_info": {
   "codemirror_mode": {
    "name": "ipython",
    "version": 3
   },
   "file_extension": ".py",
   "mimetype": "text/x-python",
   "name": "python",
   "nbconvert_exporter": "python",
   "pygments_lexer": "ipython3",
   "version": "3.11.5"
  },
  "orig_nbformat": 4
 },
 "nbformat": 4,
 "nbformat_minor": 2
}
